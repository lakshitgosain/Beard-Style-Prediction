{
 "cells": [
  {
   "cell_type": "code",
   "execution_count": 1,
   "metadata": {},
   "outputs": [
    {
     "name": "stderr",
     "output_type": "stream",
     "text": [
      "Using TensorFlow backend.\n"
     ]
    }
   ],
   "source": [
    "import numpy as np \n",
    "import matplotlib.pyplot as plt\n",
    "import pandas\n",
    "from keras.models import Model\n",
    "from keras.models import Sequential\n",
    "from keras.layers import Dense,Flatten,MaxPool2D,Conv2D,Dropout\n",
    "import tensorflow as tf\n",
    "from keras.applications.resnet50 import ResNet50\n",
    "from keras.applications.vgg16 import VGG16\n",
    "import glob "
   ]
  },
  {
   "cell_type": "code",
   "execution_count": 18,
   "metadata": {},
   "outputs": [],
   "source": [
    "train_path='Dataset/Train'\n",
    "test_path='Dataset/Test'\n"
   ]
  },
  {
   "cell_type": "code",
   "execution_count": 19,
   "metadata": {},
   "outputs": [
    {
     "name": "stdout",
     "output_type": "stream",
     "text": [
      "2.1.0\n"
     ]
    }
   ],
   "source": [
    "print(tf.__version__)"
   ]
  },
  {
   "cell_type": "code",
   "execution_count": 20,
   "metadata": {},
   "outputs": [],
   "source": [
    "classifier=Sequential()"
   ]
  },
  {
   "cell_type": "code",
   "execution_count": 21,
   "metadata": {},
   "outputs": [
    {
     "name": "stderr",
     "output_type": "stream",
     "text": [
      "C:\\Users\\LaKgos01\\Anaconda3\\lib\\site-packages\\ipykernel_launcher.py:1: UserWarning: Update your `Conv2D` call to the Keras 2 API: `Conv2D(32, (3, 3), input_shape=(64, 64, 3..., activation=\"relu\")`\n",
      "  \"\"\"Entry point for launching an IPython kernel.\n"
     ]
    }
   ],
   "source": [
    "classifier.add(Conv2D(32,3,3,input_shape=(64,64,3),activation='relu'))"
   ]
  },
  {
   "cell_type": "code",
   "execution_count": 22,
   "metadata": {},
   "outputs": [
    {
     "name": "stderr",
     "output_type": "stream",
     "text": [
      "C:\\Users\\LaKgos01\\Anaconda3\\lib\\site-packages\\ipykernel_launcher.py:1: UserWarning: Update your `Conv2D` call to the Keras 2 API: `Conv2D(32, (3, 3), input_shape=(64, 64, 3..., activation=\"relu\")`\n",
      "  \"\"\"Entry point for launching an IPython kernel.\n"
     ]
    }
   ],
   "source": [
    "classifier.add(Conv2D(32,3,3,input_shape=(64,64,3),activation='relu'))"
   ]
  },
  {
   "cell_type": "code",
   "execution_count": 23,
   "metadata": {},
   "outputs": [],
   "source": [
    "classifier.add(Dropout(0.2))"
   ]
  },
  {
   "cell_type": "code",
   "execution_count": 24,
   "metadata": {},
   "outputs": [],
   "source": [
    "classifier.add(MaxPool2D(pool_size=(2,2)))"
   ]
  },
  {
   "cell_type": "code",
   "execution_count": 25,
   "metadata": {},
   "outputs": [],
   "source": [
    "classifier.add(Dropout(0.2))"
   ]
  },
  {
   "cell_type": "code",
   "execution_count": 26,
   "metadata": {},
   "outputs": [],
   "source": [
    "classifier.add(Flatten())\n",
    "classifier.add(Dropout(0.2))"
   ]
  },
  {
   "cell_type": "code",
   "execution_count": 27,
   "metadata": {},
   "outputs": [
    {
     "name": "stderr",
     "output_type": "stream",
     "text": [
      "C:\\Users\\LaKgos01\\Anaconda3\\lib\\site-packages\\ipykernel_launcher.py:1: UserWarning: Update your `Dense` call to the Keras 2 API: `Dense(activation=\"relu\", units=128)`\n",
      "  \"\"\"Entry point for launching an IPython kernel.\n",
      "C:\\Users\\LaKgos01\\Anaconda3\\lib\\site-packages\\ipykernel_launcher.py:2: UserWarning: Update your `Dense` call to the Keras 2 API: `Dense(activation=\"sigmoid\", units=1)`\n",
      "  \n"
     ]
    }
   ],
   "source": [
    "classifier.add(Dense(output_dim=128,activation='relu'))\n",
    "classifier.add(Dense(output_dim=1,activation='sigmoid'))"
   ]
  },
  {
   "cell_type": "code",
   "execution_count": 28,
   "metadata": {},
   "outputs": [],
   "source": [
    "classifier.compile(loss='binary_crossentropy',optimizer='adam',metrics=['accuracy'])"
   ]
  },
  {
   "cell_type": "code",
   "execution_count": null,
   "metadata": {},
   "outputs": [],
   "source": []
  },
  {
   "cell_type": "code",
   "execution_count": 29,
   "metadata": {},
   "outputs": [],
   "source": [
    "from keras.preprocessing.image import ImageDataGenerator"
   ]
  },
  {
   "cell_type": "code",
   "execution_count": 30,
   "metadata": {},
   "outputs": [],
   "source": [
    "train_datagen=ImageDataGenerator(\n",
    "rescale=1./255,\n",
    "shear_range=0.2,\n",
    "zoom_range=0.2,\n",
    "horizontal_flip=True,\n",
    "vertical_flip=True)"
   ]
  },
  {
   "cell_type": "code",
   "execution_count": 31,
   "metadata": {},
   "outputs": [],
   "source": [
    "test_datagen=ImageDataGenerator(\n",
    "rescale=1./255)"
   ]
  },
  {
   "cell_type": "code",
   "execution_count": 32,
   "metadata": {},
   "outputs": [
    {
     "name": "stdout",
     "output_type": "stream",
     "text": [
      "Found 59 images belonging to 2 classes.\n",
      "Found 39 images belonging to 2 classes.\n",
      "Epoch 1/30\n",
      "30/30 [==============================] - 17s 566ms/step - loss: 0.7801 - accuracy: 0.5480 - val_loss: 0.6287 - val_accuracy: 0.5436\n",
      "Epoch 2/30\n",
      "30/30 [==============================] - 16s 530ms/step - loss: 0.4652 - accuracy: 0.7932 - val_loss: 1.2122 - val_accuracy: 0.6000\n",
      "Epoch 3/30\n",
      "30/30 [==============================] - 15s 506ms/step - loss: 0.2485 - accuracy: 0.9040 - val_loss: 1.1494 - val_accuracy: 0.6128\n",
      "Epoch 4/30\n",
      "30/30 [==============================] - 16s 518ms/step - loss: 0.1530 - accuracy: 0.9503 - val_loss: 1.7629 - val_accuracy: 0.6359\n",
      "Epoch 5/30\n",
      "30/30 [==============================] - 16s 522ms/step - loss: 0.1129 - accuracy: 0.9684 - val_loss: 2.0177 - val_accuracy: 0.6872\n",
      "Epoch 6/30\n",
      "30/30 [==============================] - 16s 549ms/step - loss: 0.0599 - accuracy: 0.9808 - val_loss: 0.3871 - val_accuracy: 0.6538\n",
      "Epoch 7/30\n",
      "30/30 [==============================] - 16s 518ms/step - loss: 0.0267 - accuracy: 0.9989 - val_loss: 0.7158 - val_accuracy: 0.6615\n",
      "Epoch 8/30\n",
      "30/30 [==============================] - 16s 535ms/step - loss: 0.0236 - accuracy: 0.9955 - val_loss: 2.6504 - val_accuracy: 0.6692\n",
      "Epoch 9/30\n",
      "30/30 [==============================] - 16s 537ms/step - loss: 0.0352 - accuracy: 0.9932 - val_loss: 1.3973 - val_accuracy: 0.6487\n",
      "Epoch 10/30\n",
      "30/30 [==============================] - 15s 515ms/step - loss: 0.0345 - accuracy: 0.9921 - val_loss: 1.5102 - val_accuracy: 0.6667\n",
      "Epoch 11/30\n",
      "30/30 [==============================] - 16s 524ms/step - loss: 0.0521 - accuracy: 0.9819 - val_loss: 0.1470 - val_accuracy: 0.6872\n",
      "Epoch 12/30\n",
      "30/30 [==============================] - 17s 552ms/step - loss: 0.0152 - accuracy: 0.9955 - val_loss: 3.0309 - val_accuracy: 0.6410\n",
      "Epoch 13/30\n",
      "30/30 [==============================] - 17s 565ms/step - loss: 0.0218 - accuracy: 0.9955 - val_loss: 0.2203 - val_accuracy: 0.6615\n",
      "Epoch 14/30\n",
      "30/30 [==============================] - 18s 598ms/step - loss: 0.0072 - accuracy: 0.9989 - val_loss: 2.0787 - val_accuracy: 0.6821\n",
      "Epoch 15/30\n",
      "30/30 [==============================] - 23s 750ms/step - loss: 0.0103 - accuracy: 0.9966 - val_loss: 0.6518 - val_accuracy: 0.7000\n",
      "Epoch 16/30\n",
      "30/30 [==============================] - 22s 748ms/step - loss: 0.0099 - accuracy: 0.9989 - val_loss: 1.5395 - val_accuracy: 0.6590\n",
      "Epoch 17/30\n",
      "30/30 [==============================] - 17s 568ms/step - loss: 0.0053 - accuracy: 0.9989 - val_loss: 2.7754 - val_accuracy: 0.6897\n",
      "Epoch 18/30\n",
      "30/30 [==============================] - 17s 581ms/step - loss: 0.0177 - accuracy: 0.9955 - val_loss: 2.9288 - val_accuracy: 0.6897\n",
      "Epoch 19/30\n",
      "30/30 [==============================] - 16s 528ms/step - loss: 0.0049 - accuracy: 0.9989 - val_loss: 1.1687 - val_accuracy: 0.6487\n",
      "Epoch 20/30\n",
      "30/30 [==============================] - 16s 546ms/step - loss: 0.0085 - accuracy: 0.9966 - val_loss: 2.4704 - val_accuracy: 0.6308\n",
      "Epoch 21/30\n",
      "30/30 [==============================] - 16s 546ms/step - loss: 0.0027 - accuracy: 1.0000 - val_loss: 4.0004 - val_accuracy: 0.6846\n",
      "Epoch 22/30\n",
      "30/30 [==============================] - 16s 534ms/step - loss: 0.0030 - accuracy: 0.9989 - val_loss: 2.4276 - val_accuracy: 0.6692\n",
      "Epoch 23/30\n",
      "30/30 [==============================] - 17s 550ms/step - loss: 0.0114 - accuracy: 0.9977 - val_loss: 5.1444 - val_accuracy: 0.6667\n",
      "Epoch 24/30\n",
      "30/30 [==============================] - 16s 524ms/step - loss: 0.0110 - accuracy: 0.9966 - val_loss: 0.9074 - val_accuracy: 0.6718\n",
      "Epoch 25/30\n",
      "30/30 [==============================] - 18s 607ms/step - loss: 0.0091 - accuracy: 0.9977 - val_loss: 0.1411 - val_accuracy: 0.6538\n",
      "Epoch 26/30\n",
      "30/30 [==============================] - 17s 563ms/step - loss: 0.0265 - accuracy: 0.9932 - val_loss: 2.8819 - val_accuracy: 0.6436\n",
      "Epoch 27/30\n",
      "30/30 [==============================] - 16s 524ms/step - loss: 0.0117 - accuracy: 0.9955 - val_loss: 3.2145 - val_accuracy: 0.7000\n",
      "Epoch 28/30\n",
      "30/30 [==============================] - 15s 509ms/step - loss: 0.0165 - accuracy: 0.9944 - val_loss: 2.4114 - val_accuracy: 0.6846\n",
      "Epoch 29/30\n",
      "30/30 [==============================] - 18s 592ms/step - loss: 0.0202 - accuracy: 0.9955 - val_loss: 4.0197 - val_accuracy: 0.6795\n",
      "Epoch 30/30\n",
      "30/30 [==============================] - 17s 570ms/step - loss: 0.0060 - accuracy: 0.9989 - val_loss: 1.4725 - val_accuracy: 0.6795\n"
     ]
    }
   ],
   "source": [
    "training_set=train_datagen.flow_from_directory('Dataset/Train',\n",
    "                                              target_size=(64,64),\n",
    "                                              batch_size=32,\n",
    "                                              class_mode='binary',\n",
    "                                              )\n",
    "\n",
    "test_set=train_datagen.flow_from_directory('Dataset/Test',\n",
    "                                              target_size=(64,64),\n",
    "                                              batch_size=32,\n",
    "                                              class_mode='binary',\n",
    "                                              )\n",
    "\n",
    "r=classifier.fit_generator(training_set,\n",
    "             steps_per_epoch=30,\n",
    "              epochs=30,\n",
    "              validation_data=test_set,\n",
    "              validation_steps=20\n",
    "             )"
   ]
  },
  {
   "cell_type": "code",
   "execution_count": 33,
   "metadata": {},
   "outputs": [
    {
     "data": {
      "text/plain": [
       "[0.5480226,\n",
       " 0.79322034,\n",
       " 0.9039548,\n",
       " 0.9502825,\n",
       " 0.96836156,\n",
       " 0.980791,\n",
       " 0.9988701,\n",
       " 0.99548024,\n",
       " 0.9932203,\n",
       " 0.9920904,\n",
       " 0.9819209,\n",
       " 0.99548024,\n",
       " 0.99548024,\n",
       " 0.9988701,\n",
       " 0.99661016,\n",
       " 0.9988701,\n",
       " 0.9988701,\n",
       " 0.99548024,\n",
       " 0.9988701,\n",
       " 0.99661016,\n",
       " 1.0,\n",
       " 0.9988701,\n",
       " 0.9977401,\n",
       " 0.99661016,\n",
       " 0.9977401,\n",
       " 0.9932203,\n",
       " 0.99548024,\n",
       " 0.99435025,\n",
       " 0.99548024,\n",
       " 0.9988701]"
      ]
     },
     "execution_count": 33,
     "metadata": {},
     "output_type": "execute_result"
    }
   ],
   "source": [
    "r.history['accuracy']"
   ]
  },
  {
   "cell_type": "code",
   "execution_count": 37,
   "metadata": {},
   "outputs": [
    {
     "data": {
      "text/plain": [
       "[<matplotlib.lines.Line2D at 0x145db0e6e88>]"
      ]
     },
     "execution_count": 37,
     "metadata": {},
     "output_type": "execute_result"
    },
    {
     "data": {
      "image/png": "[encoded data removed]",
      "text/plain": [
       "<Figure size 432x288 with 1 Axes>"
      ]
     },
     "metadata": {
      "needs_background": "light"
     },
     "output_type": "display_data"
    }
   ],
   "source": [
    "plt.plot(r.history['accuracy'])\n",
    "plt.plot(r.history['val_accuracy'])"
   ]
  },
  {
   "cell_type": "code",
   "execution_count": null,
   "metadata": {},
   "outputs": [],
   "source": []
  },
  {
   "cell_type": "code",
   "execution_count": 17,
   "metadata": {},
   "outputs": [],
   "source": [
    "y_pred=classifier.predict(test_set)"
   ]
  },
  {
   "cell_type": "code",
   "execution_count": 62,
   "metadata": {},
   "outputs": [],
   "source": [
    "pred_value=[int(round(p[0])) for p in y_pred]"
   ]
  },
  {
   "cell_type": "code",
   "execution_count": 60,
   "metadata": {},
   "outputs": [],
   "source": [
    "import math"
   ]
  },
  {
   "cell_type": "code",
   "execution_count": 63,
   "metadata": {},
   "outputs": [
    {
     "data": {
      "text/plain": [
       "[1,\n",
       " 1,\n",
       " 1,\n",
       " 0,\n",
       " 1,\n",
       " 1,\n",
       " 0,\n",
       " 1,\n",
       " 0,\n",
       " 0,\n",
       " 1,\n",
       " 0,\n",
       " 1,\n",
       " 1,\n",
       " 1,\n",
       " 1,\n",
       " 1,\n",
       " 1,\n",
       " 0,\n",
       " 1,\n",
       " 0,\n",
       " 1,\n",
       " 1,\n",
       " 0,\n",
       " 1,\n",
       " 1,\n",
       " 1,\n",
       " 1,\n",
       " 1,\n",
       " 0,\n",
       " 0,\n",
       " 1,\n",
       " 1,\n",
       " 0,\n",
       " 1,\n",
       " 1,\n",
       " 0,\n",
       " 1,\n",
       " 1]"
      ]
     },
     "execution_count": 63,
     "metadata": {},
     "output_type": "execute_result"
    }
   ],
   "source": [
    "pred_value"
   ]
  },
  {
   "cell_type": "code",
   "execution_count": 64,
   "metadata": {},
   "outputs": [
    {
     "data": {
      "text/plain": [
       "<keras.preprocessing.image.DirectoryIterator at 0x26e51ee25c8>"
      ]
     },
     "execution_count": 64,
     "metadata": {},
     "output_type": "execute_result"
    }
   ],
   "source": [
    "test_set"
   ]
  },
  {
   "cell_type": "code",
   "execution_count": 65,
   "metadata": {},
   "outputs": [],
   "source": [
    "classifier.save('Beard_style.h5')"
   ]
  },
  {
   "cell_type": "code",
   "execution_count": null,
   "metadata": {},
   "outputs": [],
   "source": []
  },
  {
   "cell_type": "code",
   "execution_count": 41,
   "metadata": {},
   "outputs": [],
   "source": [
    "from keras.models import load_model\n",
    "from keras.preprocessing import image"
   ]
  },
  {
   "cell_type": "code",
   "execution_count": 42,
   "metadata": {},
   "outputs": [],
   "source": [
    "x=image.load_img(\"Dataset/Test/Full Beard/38.jpg\",target_size=(64,64))"
   ]
  },
  {
   "cell_type": "code",
   "execution_count": 43,
   "metadata": {},
   "outputs": [
    {
     "data": {
      "image/png": "[encoded data removed]",
      "text/plain": [
       "<PIL.Image.Image image mode=RGB size=64x64 at 0x145DBF44408>"
      ]
     },
     "execution_count": 43,
     "metadata": {},
     "output_type": "execute_result"
    }
   ],
   "source": [
    "x"
   ]
  },
  {
   "cell_type": "code",
   "execution_count": 44,
   "metadata": {},
   "outputs": [],
   "source": [
    "x=image.img_to_array(x)"
   ]
  },
  {
   "cell_type": "code",
   "execution_count": 45,
   "metadata": {},
   "outputs": [
    {
     "data": {
      "text/plain": [
       "array([[[170., 170., 170.],\n",
       "        [174., 174., 174.],\n",
       "        [194., 195., 197.],\n",
       "        ...,\n",
       "        [202., 205., 210.],\n",
       "        [202., 202., 204.],\n",
       "        [191., 191., 193.]],\n",
       "\n",
       "       [[182., 182., 182.],\n",
       "        [177., 177., 177.],\n",
       "        [193., 194., 196.],\n",
       "        ...,\n",
       "        [205., 208., 213.],\n",
       "        [205., 205., 207.],\n",
       "        [195., 195., 197.]],\n",
       "\n",
       "       [[184., 184., 184.],\n",
       "        [173., 173., 173.],\n",
       "        [200., 201., 203.],\n",
       "        ...,\n",
       "        [212., 215., 220.],\n",
       "        [208., 208., 210.],\n",
       "        [197., 197., 199.]],\n",
       "\n",
       "       ...,\n",
       "\n",
       "       [[154., 119.,  99.],\n",
       "        [189., 153., 129.],\n",
       "        [190., 152., 129.],\n",
       "        ...,\n",
       "        [217., 166., 135.],\n",
       "        [229., 174., 135.],\n",
       "        [236., 181., 142.]],\n",
       "\n",
       "       [[114.,  92.,  81.],\n",
       "        [131., 102.,  86.],\n",
       "        [136., 105.,  85.],\n",
       "        ...,\n",
       "        [209., 154., 124.],\n",
       "        [221., 162., 122.],\n",
       "        [228., 169., 129.]],\n",
       "\n",
       "       [[ 91.,  81.,  82.],\n",
       "        [118.,  89.,  75.],\n",
       "        [161., 132., 116.],\n",
       "        ...,\n",
       "        [196., 141., 110.],\n",
       "        [205., 143., 106.],\n",
       "        [214., 152., 115.]]], dtype=float32)"
      ]
     },
     "execution_count": 45,
     "metadata": {},
     "output_type": "execute_result"
    }
   ],
   "source": [
    "x"
   ]
  },
  {
   "cell_type": "code",
   "execution_count": 46,
   "metadata": {},
   "outputs": [
    {
     "data": {
      "text/plain": [
       "(64, 64, 3)"
      ]
     },
     "execution_count": 46,
     "metadata": {},
     "output_type": "execute_result"
    }
   ],
   "source": [
    "x.shape"
   ]
  },
  {
   "cell_type": "code",
   "execution_count": 47,
   "metadata": {},
   "outputs": [],
   "source": [
    "x=x/225"
   ]
  },
  {
   "cell_type": "code",
   "execution_count": 48,
   "metadata": {},
   "outputs": [],
   "source": [
    "x=x.reshape(1,64,64,3)"
   ]
  },
  {
   "cell_type": "code",
   "execution_count": 49,
   "metadata": {},
   "outputs": [
    {
     "data": {
      "text/plain": [
       "(1, 64, 64, 3)"
      ]
     },
     "execution_count": 49,
     "metadata": {},
     "output_type": "execute_result"
    }
   ],
   "source": [
    "x.shape"
   ]
  },
  {
   "cell_type": "code",
   "execution_count": 50,
   "metadata": {},
   "outputs": [],
   "source": [
    "model=load_model('Beard_style.h5')"
   ]
  },
  {
   "cell_type": "code",
   "execution_count": 51,
   "metadata": {},
   "outputs": [],
   "source": [
    "pred=model.predict(x)"
   ]
  },
  {
   "cell_type": "code",
   "execution_count": 52,
   "metadata": {},
   "outputs": [],
   "source": [
    "predicted_val = [int(round(p[0])) for p in pred]"
   ]
  },
  {
   "cell_type": "code",
   "execution_count": 53,
   "metadata": {},
   "outputs": [
    {
     "data": {
      "text/plain": [
       "[1]"
      ]
     },
     "execution_count": 53,
     "metadata": {},
     "output_type": "execute_result"
    }
   ],
   "source": [
    "predicted_val"
   ]
  },
  {
   "cell_type": "code",
   "execution_count": 62,
   "metadata": {},
   "outputs": [],
   "source": [
    "x=image.load_img(\"Dataset/Test/Clean Shaven/37.jpg\",target_size=(64,64))"
   ]
  },
  {
   "cell_type": "code",
   "execution_count": 63,
   "metadata": {},
   "outputs": [
    {
     "data": {
      "image/png": "[encoded data removed]",
      "text/plain": [
       "<PIL.Image.Image image mode=RGB size=64x64 at 0x145DC2DFC08>"
      ]
     },
     "execution_count": 63,
     "metadata": {},
     "output_type": "execute_result"
    }
   ],
   "source": [
    "x"
   ]
  },
  {
   "cell_type": "code",
   "execution_count": 64,
   "metadata": {},
   "outputs": [],
   "source": [
    "x=image.img_to_array(x)"
   ]
  },
  {
   "cell_type": "code",
   "execution_count": 65,
   "metadata": {},
   "outputs": [],
   "source": [
    "x=x/225"
   ]
  },
  {
   "cell_type": "code",
   "execution_count": 66,
   "metadata": {},
   "outputs": [],
   "source": [
    "x=x.reshape(1,64,64,3)"
   ]
  },
  {
   "cell_type": "code",
   "execution_count": 67,
   "metadata": {},
   "outputs": [],
   "source": [
    "new=model.predict(x)"
   ]
  },
  {
   "cell_type": "code",
   "execution_count": 68,
   "metadata": {},
   "outputs": [],
   "source": [
    "predicted_val = [int(round(p[0])) for p in new]"
   ]
  },
  {
   "cell_type": "code",
   "execution_count": 69,
   "metadata": {},
   "outputs": [
    {
     "data": {
      "text/plain": [
       "[1]"
      ]
     },
     "execution_count": 69,
     "metadata": {},
     "output_type": "execute_result"
    }
   ],
   "source": [
    "predicted_val"
   ]
  },
  {
   "cell_type": "code",
   "execution_count": null,
   "metadata": {},
   "outputs": [],
   "source": []
  },
  {
   "cell_type": "code",
   "execution_count": null,
   "metadata": {},
   "outputs": [],
   "source": []
  }
 ],
 "metadata": {
  "kernelspec": {
   "display_name": "Python 3",
   "language": "python",
   "name": "python3"
  },
  "language_info": {
   "codemirror_mode": {
    "name": "ipython",
    "version": 3
   },
   "file_extension": ".py",
   "mimetype": "text/x-python",
   "name": "python",
   "nbconvert_exporter": "python",
   "pygments_lexer": "ipython3",
   "version": "3.7.7"
  }
 },
 "nbformat": 4,
 "nbformat_minor": 4
}
